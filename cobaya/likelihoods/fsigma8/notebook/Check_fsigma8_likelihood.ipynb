{
 "cells": [
  {
   "cell_type": "code",
   "execution_count": 1,
   "id": "a96c68ec-4008-4f16-847e-ad0fe7dba923",
   "metadata": {},
   "outputs": [
    {
     "name": "stdout",
     "output_type": "stream",
     "text": [
      "Using CAMB 1.3.6 installed at /usr/local/anaconda/envs/py311forge/lib/python3.11/site-packages/camb\n"
     ]
    }
   ],
   "source": [
    "%matplotlib inline\n",
    "import sys, platform, os\n",
    "import matplotlib\n",
    "from matplotlib import pyplot as plt\n",
    "\n",
    "import numpy as np\n",
    "import pandas as pd\n",
    "\n",
    "camb_path = os.path.realpath(os.path.join(os.getcwd(),'..'))\n",
    "sys.path.insert(0,camb_path)\n",
    "import camb\n",
    "from camb import model, initialpower\n",
    "print('Using CAMB %s installed at %s'%(camb.__version__,os.path.dirname(camb.__file__)))"
   ]
  },
  {
   "cell_type": "code",
   "execution_count": 14,
   "id": "76e6bef6-a44c-4e33-9dd3-cec2c7db889e",
   "metadata": {},
   "outputs": [
    {
     "name": "stdout",
     "output_type": "stream",
     "text": [
      "Note: redshifts have been re-sorted (earliest first)\n"
     ]
    }
   ],
   "source": [
    "#Set up a new set of parameters for CAMB\n",
    "pars = camb.CAMBparams()\n",
    "#This function sets up CosmoMC-like settings, with one massive neutrino and helium set using BBN consistency\n",
    "pars.set_cosmology(H0=67.5, ombh2=0.022, omch2=0.122, mnu=0.06, omk=0, tau=0.06)\n",
    "pars.InitPower.set_params(As=2e-9, ns=0.965, r=0)\n",
    "pars.set_for_lmax(2500, lens_potential_accuracy=0);\n",
    "pars.set_matter_power(redshifts=[0.,0.5,0.7,1.0], kmax=2.0)\n",
    "#calculate results for these parameters\n",
    "results = camb.get_results(pars)"
   ]
  },
  {
   "cell_type": "code",
   "execution_count": 15,
   "id": "c63d9a34-e43b-4e6a-8764-4ca1fd67315a",
   "metadata": {},
   "outputs": [
    {
     "data": {
      "text/plain": [
       "array([0.42826301, 0.45891582, 0.4715776 , 0.42573843])"
      ]
     },
     "execution_count": 15,
     "metadata": {},
     "output_type": "execute_result"
    }
   ],
   "source": [
    "fsigma8=results.get_fsigma8()\n",
    "fsigma8"
   ]
  },
  {
   "cell_type": "code",
   "execution_count": 27,
   "id": "c7dbe330-9826-41bf-85ad-7916e3898576",
   "metadata": {},
   "outputs": [
    {
     "name": "stdout",
     "output_type": "stream",
     "text": [
      "0.00203355 0.000811829 0.0 0.000811829 0.00142289 0.0 0.0 0.0 0.0019616235334774944\n",
      "(3, 3)\n",
      "[[0.00203355 0.00081183 0.        ]\n",
      " [0.00081183 0.00142289 0.        ]\n",
      " [0.         0.         0.00196162]]\n"
     ]
    }
   ],
   "source": [
    "covmat_file='/Users/nguyenmn/cobaya/cobaya_cosmo/data/bao_data/sdss_DR16_BAOplus_LRG_FSBAO_DMDHfs8_covtot.txt'\n",
    "covmat=np.loadtxt(covmat_file,usecols=range(9),delimiter=' ')\n",
    "print(covmat[2,2],covmat[2,5],covmat[2,8],covmat[5,2],covmat[5,5],covmat[5,8],covmat[8,2],covmat[8,5],covmat[8,8])\n",
    "new_covmat=np.array([[covmat[2,2],covmat[2,5],covmat[2,8]],[covmat[5,2],covmat[5,5],covmat[5,8]],[covmat[8,2],covmat[8,5],covmat[8,8]]])\n",
    "print(new_covmat.shape)\n",
    "print(new_covmat)\n",
    "np.savetxt('./data/fsigma8_test_covmat.txt',new_covmat,delimiter=' ')"
   ]
  },
  {
   "cell_type": "code",
   "execution_count": 3,
   "id": "15c1a152-9337-4133-98af-a28cb3638dd2",
   "metadata": {},
   "outputs": [
    {
     "data": {
      "text/html": [
       "<div>\n",
       "<style scoped>\n",
       "    .dataframe tbody tr th:only-of-type {\n",
       "        vertical-align: middle;\n",
       "    }\n",
       "\n",
       "    .dataframe tbody tr th {\n",
       "        vertical-align: top;\n",
       "    }\n",
       "\n",
       "    .dataframe thead th {\n",
       "        text-align: right;\n",
       "    }\n",
       "</style>\n",
       "<table border=\"1\" class=\"dataframe\">\n",
       "  <thead>\n",
       "    <tr style=\"text-align: right;\">\n",
       "      <th></th>\n",
       "      <th>z</th>\n",
       "      <th>value</th>\n",
       "      <th>observable</th>\n",
       "    </tr>\n",
       "  </thead>\n",
       "  <tbody>\n",
       "    <tr>\n",
       "      <th>0</th>\n",
       "      <td>0.380</td>\n",
       "      <td>10.270000</td>\n",
       "      <td>DM_over_rs</td>\n",
       "    </tr>\n",
       "    <tr>\n",
       "      <th>1</th>\n",
       "      <td>0.380</td>\n",
       "      <td>24.890000</td>\n",
       "      <td>DH_over_rs</td>\n",
       "    </tr>\n",
       "    <tr>\n",
       "      <th>2</th>\n",
       "      <td>0.380</td>\n",
       "      <td>0.497400</td>\n",
       "      <td>f_sigma8</td>\n",
       "    </tr>\n",
       "    <tr>\n",
       "      <th>3</th>\n",
       "      <td>0.510</td>\n",
       "      <td>13.380000</td>\n",
       "      <td>DM_over_rs</td>\n",
       "    </tr>\n",
       "    <tr>\n",
       "      <th>4</th>\n",
       "      <td>0.510</td>\n",
       "      <td>22.430000</td>\n",
       "      <td>DH_over_rs</td>\n",
       "    </tr>\n",
       "    <tr>\n",
       "      <th>5</th>\n",
       "      <td>0.510</td>\n",
       "      <td>0.459000</td>\n",
       "      <td>f_sigma8</td>\n",
       "    </tr>\n",
       "    <tr>\n",
       "      <th>6</th>\n",
       "      <td>0.698</td>\n",
       "      <td>17.645955</td>\n",
       "      <td>DM_over_rs</td>\n",
       "    </tr>\n",
       "    <tr>\n",
       "      <th>7</th>\n",
       "      <td>0.698</td>\n",
       "      <td>19.769664</td>\n",
       "      <td>DH_over_rs</td>\n",
       "    </tr>\n",
       "    <tr>\n",
       "      <th>8</th>\n",
       "      <td>0.698</td>\n",
       "      <td>0.473004</td>\n",
       "      <td>f_sigma8</td>\n",
       "    </tr>\n",
       "  </tbody>\n",
       "</table>\n",
       "</div>"
      ],
      "text/plain": [
       "       z      value  observable\n",
       "0  0.380  10.270000  DM_over_rs\n",
       "1  0.380  24.890000  DH_over_rs\n",
       "2  0.380   0.497400    f_sigma8\n",
       "3  0.510  13.380000  DM_over_rs\n",
       "4  0.510  22.430000  DH_over_rs\n",
       "5  0.510   0.459000    f_sigma8\n",
       "6  0.698  17.645955  DM_over_rs\n",
       "7  0.698  19.769664  DH_over_rs\n",
       "8  0.698   0.473004    f_sigma8"
      ]
     },
     "execution_count": 3,
     "metadata": {},
     "output_type": "execute_result"
    }
   ],
   "source": [
    "data_file='~/cobaya/cobaya_cosmo/data/bao_data/sdss_DR16_BAOplus_LRG_FSBAO_DMDHfs8.dat'\n",
    "data = pd.read_csv(data_file,header=None, index_col=None, sep=r\"\\s+\", comment=\"#\")\n",
    "data.columns = [\"z\", \"value\", \"observable\"]\n",
    "data"
   ]
  },
  {
   "cell_type": "code",
   "execution_count": 4,
   "id": "51c5a41b-5088-4ef4-9d25-6641fc0e5c08",
   "metadata": {},
   "outputs": [],
   "source": [
    "zs = {obs: data.loc[data[\"observable\"] == obs, \"z\"].values\n",
    "      for obs in data[\"observable\"].unique()}"
   ]
  },
  {
   "cell_type": "code",
   "execution_count": 35,
   "id": "2913e2f1-128d-4789-9430-be136ad2f176",
   "metadata": {},
   "outputs": [
    {
     "data": {
      "text/plain": [
       "{'angular_diameter_distance': {'z': array([0.38 , 0.51 , 0.698])},\n",
       " 'rdrag': None,\n",
       " 'Hubble': {'z': array([0.38 , 0.51 , 0.698])},\n",
       " 'fsigma8': {'z': array([0.38 , 0.51 , 0.698])}}"
      ]
     },
     "execution_count": 35,
     "metadata": {},
     "output_type": "execute_result"
    }
   ],
   "source": [
    "theory_reqs = {\n",
    "             \"DV_over_rs\": {\n",
    "                 \"angular_diameter_distance\": {\"z\": zs.get(\"DV_over_rs\", None)},\n",
    "                 \"Hubble\": {\"z\": zs.get(\"DV_over_rs\", None)},\n",
    "                 \"rdrag\": None},\n",
    "             \"rs_over_DV\": {\n",
    "                 \"angular_diameter_distance\": {\"z\": zs.get(\"rs_over_DV\", None)},\n",
    "                 \"Hubble\": {\"z\": zs.get(\"rs_over_DV\", None)},\n",
    "                 \"rdrag\": None},\n",
    "             \"DM_over_rs\": {\n",
    "                 \"angular_diameter_distance\": {\"z\": zs.get(\"DM_over_rs\", None)},\n",
    "                 \"rdrag\": None},\n",
    "             \"DA_over_rs\": {\n",
    "                 \"angular_diameter_distance\": {\"z\": zs.get(\"DA_over_rs\", None)},\n",
    "                 \"rdrag\": None},\n",
    "             \"DH_over_rs\": {\n",
    "                 \"Hubble\": {\"z\": zs.get(\"DH_over_rs\", None)},\n",
    "                 \"rdrag\": None},\n",
    "             \"Hz_rs\": {\n",
    "                 \"Hubble\": {\"z\": zs.get(\"Hz_rs\", None)},\n",
    "                 \"rdrag\": None},\n",
    "             \"f_sigma8\": {\n",
    "                 \"fsigma8\": {\"z\": zs.get(\"f_sigma8\", None)},\n",
    "             },\n",
    "             \"F_AP\": {\n",
    "                 \"angular_diameter_distance\": {\"z\": zs.get(\"F_AP\", None)},\n",
    "                 \"Hubble\": {\"z\": zs.get(\"F_AP\", None)}}}\n",
    "requisites = {}\n",
    "for obs in data[\"observable\"].unique():\n",
    "    requisites.update(theory_reqs[obs])\n",
    "requisites"
   ]
  },
  {
   "cell_type": "code",
   "execution_count": 32,
   "id": "bfd491f3-5bb3-4fe4-b061-333723ccbce5",
   "metadata": {},
   "outputs": [],
   "source": [
    "def theory_fun(z,obs):\n",
    "    if obs == \"DM_over_rs\":\n",
    "        return z*1\n",
    "    elif obs == \"DH_over_rs\":\n",
    "        return z*2\n",
    "    elif obs == \"f_sigma8\":\n",
    "        return z*3"
   ]
  },
  {
   "cell_type": "code",
   "execution_count": 68,
   "id": "bb7f35b9-66e5-4c9f-848c-bf6add43f39c",
   "metadata": {},
   "outputs": [
    {
     "name": "stdout",
     "output_type": "stream",
     "text": [
      "(9, 1)\n"
     ]
    }
   ],
   "source": [
    "theory = np.array([[theory_fun(z,obs) for z,obs\n",
    "                   in zip(data[\"z\"],data[\"observable\"])]]).T\n",
    "print(theory.shape)"
   ]
  },
  {
   "cell_type": "code",
   "execution_count": 61,
   "id": "6bc7c0fd-714a-4c54-b220-d3650dc93e53",
   "metadata": {},
   "outputs": [
    {
     "data": {
      "text/plain": [
       "(9,)"
      ]
     },
     "execution_count": 61,
     "metadata": {},
     "output_type": "execute_result"
    }
   ],
   "source": [
    "theory = np.array([theory_fun(z,obs=\"f_sigma8\") for z\n",
    "                   in data[\"z\"]])\n",
    "theory.shape"
   ]
  },
  {
   "cell_type": "code",
   "execution_count": null,
   "id": "5c2f5e0b-870e-4b8a-bb07-99f5814c8ad2",
   "metadata": {},
   "outputs": [],
   "source": []
  }
 ],
 "metadata": {
  "kernelspec": {
   "display_name": "Python 3 (ipykernel)",
   "language": "python",
   "name": "python3"
  },
  "language_info": {
   "codemirror_mode": {
    "name": "ipython",
    "version": 3
   },
   "file_extension": ".py",
   "mimetype": "text/x-python",
   "name": "python",
   "nbconvert_exporter": "python",
   "pygments_lexer": "ipython3",
   "version": "3.11.0"
  }
 },
 "nbformat": 4,
 "nbformat_minor": 5
}
